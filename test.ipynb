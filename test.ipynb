{
 "cells": [
  {
   "cell_type": "code",
   "execution_count": 1,
   "metadata": {},
   "outputs": [
    {
     "name": "stdout",
     "output_type": "stream",
     "text": [
      "<class 'str'>\n"
     ]
    }
   ],
   "source": [
    "query = '''hallo'''\n",
    "print(type(query))"
   ]
  },
  {
   "cell_type": "code",
   "execution_count": 2,
   "metadata": {},
   "outputs": [
    {
     "name": "stdout",
     "output_type": "stream",
     "text": [
      "(CREATE TABLEhaskfItem TEXT NOT NULL, QUANTITY INTEGER NOT NULL, Price NUMERIC NOT NULL)\n"
     ]
    }
   ],
   "source": [
    "ID = input (\"hue\")\n",
    "query = '''(CREATE TABLE ''' + ID +''' Item TEXT NOT NULL, QUANTITY INTEGER NOT NULL, Price NUMERIC NOT NULL)'''\n",
    "print(query)"
   ]
  },
  {
   "cell_type": "code",
   "execution_count": 2,
   "metadata": {},
   "outputs": [
    {
     "name": "stdout",
     "output_type": "stream",
     "text": [
      "3\n"
     ]
    }
   ],
   "source": [
    "print(int('3'))"
   ]
  },
  {
   "cell_type": "code",
   "execution_count": 1,
   "metadata": {},
   "outputs": [
    {
     "name": "stdout",
     "output_type": "stream",
     "text": [
      "{'0.5M iphone': 7, '1.0M iphone': 9, '1.5M iphone': 11, '0.5M ethernet': 7, '1.0M ethernet': 9, '1.5M ethernet': 11, '0.5M Micro USB': 7, '1.0M Micro USB': 9, '1.5M Micro USB': 11, '0.5M Audio': 7, '1.0M Audio': 9, '1.5M Audio': 11, '0.5M HDMI': 7, '1.0M HDMI': 9, '1.5M HDMI': 11}\n"
     ]
    }
   ],
   "source": [
    "cables = [\"iphone\", \"ethernet\", \"Micro USB\", \"Audio\", \"HDMI\", ]\n",
    "\n",
    "Lengths = {\"0.5M \":7, \"1.0M \":9, \"1.5M \":11}    \n",
    "\n",
    "value = {}\n",
    "\n",
    "\n",
    "for cable in cables:\n",
    "    for length in Lengths:\n",
    "        tempstr = length+cable\n",
    "        value[tempstr] = Lengths[length]\n",
    "\n",
    "\n",
    "\n",
    "\n",
    "\n",
    "{'0.5M iphone': 7, '1.0M iphone': 9, '1.5M iphone': 11, '0.5M ethernet': 7, '1.0M ethernet': 9, '1.5M ethernet': 11, '0.5M Micro USB': 7, '1.0M Micro USB': 9, '1.5M Micro USB': 11, '0.5M Audio': 7, '1.0M Audio': 9, '1.5M Audio': 11, '0.5M HDMI': 7, '1.0M HDMI': 9, '1.5M HDMI': 11}\n",
    "\n",
    "\n",
    "\n",
    "\n",
    "print(value)b"
   ]
  },
  {
   "cell_type": "code",
   "execution_count": 6,
   "metadata": {},
   "outputs": [
    {
     "name": "stdout",
     "output_type": "stream",
     "text": [
      "CREATE TABLE Doctor(, Bed_Count, Hospital_Id, Hospital_Name)\n"
     ]
    }
   ],
   "source": [
    "# fields ={('Experience', 'INTEGER'), ('Doctor_Id', 'INTEGER'), ('Doctor_Name', 'TEXT'), ('Salary', 'INTEGER'), ('Speciality', 'TEXT'), ('Joining_Date', 'TEXT'), ('Hospital_Id', 'INTEGER')}\n",
    "fields = {('Bed_Count', 'INTEGER'), ('Hospital_Name', 'TEXT'), ('Hospital_Id', 'INTEGER')}\t\n",
    "querygap = \"\"\n",
    "\n",
    "# for field in fields:\n",
    "#     querygap += field[0]+\" \"+field[1]+\" NOT NULL, \"\n",
    "\n",
    "for field in fields:\n",
    "    querygap += \", \" + field[0]\n",
    "\n",
    "\n",
    "print(\"CREATE TABLE Doctor({})\".format(querygap))"
   ]
  },
  {
   "cell_type": "code",
   "execution_count": 39,
   "metadata": {},
   "outputs": [
    {
     "name": "stdout",
     "output_type": "stream",
     "text": [
      "[101, 'David', 1, '10/2/2005', 'Pediatric', 40000, 15]\n",
      "[102, 'Michael', 1, '23/7/2018', 'Oncologist', 20000, 2]\n",
      "[103, 'Susan', 2, '19/5/2016', 'Garnacologist', 25000, 4]\n",
      "[104, 'Robert', 2, '28/12/2017', 'Pediatric', 28000, 3]\n",
      "[105, 'Linda', 3, '4/6/2004', 'Garnacologist', 42000, 16]\n",
      "[106, 'William', 3, '11/9/2012', 'Dermatologist', 30000, 8]\n",
      "[107, 'Richard', 4, '21/8/2014', 'Garnacologist', 32000, 6]\n",
      "[108, 'Karen', 4, '17/10/2011', 'Radiologist', 30000, 9]\n"
     ]
    }
   ],
   "source": [
    "#1. import statement\n",
    "from sqlite3 import *\n",
    "from csv import *\n",
    "\n",
    "#2. open database\n",
    "db = connect(\"assignment.db\")\n",
    "#3. create cursor\n",
    "c = db.cursor()\n",
    "#4. create tables\n",
    "c.execute(\"CREATE TABLE hospital(Hospital_Id INTEGER UNIQUE NOT NULL,Hospital_Name TEXT NOT NULL, Bed_Count INTEGER NOT NULL, PRIMARY KEY ('Hospital_Id'))\")\n",
    "c.execute('''CREATE TABLE doctor\n",
    "(Joining_Date TEXT NOT NULL, \n",
    "Experience INTEGER NOT NULL, \n",
    "Doctor_Name TEXT NOT NULL, \n",
    "Doctor_Id INTEGER NOT NULL, \n",
    "Salary INTEGER NOT NULL, \n",
    "Hospital_Id INTEGER NOT NULL, \n",
    "Speciality TEXT NOT NULL, \n",
    "PRIMARY KEY ('Doctor_Id'),  \n",
    "FOREIGN KEY(Hospital_Id) REFERENCES hospital(Hospital_Id) )''')\n",
    "# 5. open each file\n",
    "#   use cursor to insert into db\n",
    "file = open(\"Hospital.csv\")\n",
    "data = reader(file)\n",
    "next(data)\n",
    "for line in data:\n",
    "    line[0], line[2] = int(line[0]), int(line[2])\n",
    "    c.execute(\"INSERT INTO hospital(Hospital_Id, Hospital_Name, Bed_Count) VALUES(?,?,?)\", line)\n",
    "    \n",
    "file.close()\n",
    "\n",
    "file = open(\"Doctor.csv\")\n",
    "data = reader(file)\n",
    "next(data)\n",
    "for line in data:\n",
    "    for i in range(len(line)):\n",
    "        try:\n",
    "            line[i] = int(line[i])\n",
    "\n",
    "        except:\n",
    "            continue\n",
    "    c.execute(\"INSERT INTO doctor( Doctor_Id,Doctor_Name,Hospital_Id,Joining_Date,Speciality,Salary,Experience) VALUES(?,?,?,?,?,?,?)\", line)\n",
    "\n",
    "\n",
    "file.close()\n",
    "\n",
    "\n",
    "#6. commit changes\n",
    "db.commit()     \n",
    "#7. close the db\n",
    "db.close()"
   ]
  },
  {
   "cell_type": "code",
   "execution_count": null,
   "metadata": {},
   "outputs": [],
   "source": []
  }
 ],
 "metadata": {
  "interpreter": {
   "hash": "0d86d8694bf4f4987cc89be4289c30787c66d6f2fcfb94d622db21b9fa37ac42"
  },
  "kernelspec": {
   "display_name": "Python 3.6.4 64-bit",
   "language": "python",
   "name": "python3"
  },
  "language_info": {
   "codemirror_mode": {
    "name": "ipython",
    "version": 3
   },
   "file_extension": ".py",
   "mimetype": "text/x-python",
   "name": "python",
   "nbconvert_exporter": "python",
   "pygments_lexer": "ipython3",
   "version": "3.6.4"
  },
  "orig_nbformat": 4
 },
 "nbformat": 4,
 "nbformat_minor": 2
}
