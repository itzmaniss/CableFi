{
 "cells": [
  {
   "cell_type": "markdown",
   "metadata": {},
   "source": [
    "Create new db\n"
   ]
  },
  {
   "cell_type": "code",
   "execution_count": 5,
   "metadata": {},
   "outputs": [
    {
     "name": "stdout",
     "output_type": "stream",
     "text": [
      "cablefi.db Has been created\n"
     ]
    }
   ],
   "source": [
    "from sqlite3 import *\n",
    "\n",
    "name = input(\"Name of new db\")\n",
    "\n",
    "if \".db\" not in name:\n",
    "    name += \".db\"\n",
    "\n",
    "db = connect(name)\n",
    "\n",
    "db.close\n",
    "\n",
    "print(name,\"Has been created\")"
   ]
  },
  {
   "cell_type": "markdown",
   "metadata": {},
   "source": [
    "Create a table\n"
   ]
  },
  {
   "cell_type": "code",
   "execution_count": 6,
   "metadata": {},
   "outputs": [
    {
     "name": "stdout",
     "output_type": "stream",
     "text": [
      "Table has been created with the attributes\n"
     ]
    }
   ],
   "source": [
    "from sqlite3 import *\n",
    "\n",
    "db = connect(\"cablefi.db\")\n",
    "\n",
    "c = db.cursor()\n",
    "\n",
    "# c.execute('''CREATE TABLE USERS(Name TEXT NOT NULL, email TEXT NOT NULL, UserID TEXT UNIQUE NOT NULL,Password TEXT NOT NULL,Address TEXT NOT NULL, PRIMARY KEY('UserID'))''')\n",
    "c.execute(\"CREATE TABLE CAT(Name TEXT NOT NULL,Colour TEXT, Quantity INTEGER NOT NULL, Price NUMERIC NOT NULL)\")\n",
    "\n",
    "db.commit()\n",
    "\n",
    "db.close()\n",
    "\n",
    "print(\"Table has been created with the attributes\")"
   ]
  },
  {
   "cell_type": "markdown",
   "metadata": {},
   "source": [
    "Drop a Table"
   ]
  },
  {
   "cell_type": "code",
   "execution_count": 5,
   "metadata": {},
   "outputs": [
    {
     "name": "stdout",
     "output_type": "stream",
     "text": [
      "CAT has been dropped\n"
     ]
    }
   ],
   "source": [
    "from sqlite3 import *\n",
    "\n",
    "db = connect(\"cablefi.db\")\n",
    "\n",
    "c = db.cursor()\n",
    "\n",
    "name = input(\"Name of table\")\n",
    "\n",
    "c.execute('''DROP TABLE {}'''.format(name))\n",
    "db.commit()\n",
    "db.close()\n",
    "\n",
    "print(name,\"has been dropped\")"
   ]
  },
  {
   "cell_type": "markdown",
   "metadata": {},
   "source": [
    "Add into table\n"
   ]
  },
  {
   "cell_type": "code",
   "execution_count": 5,
   "metadata": {},
   "outputs": [],
   "source": [
    "from sqlite3 import *\n",
    "\n",
    "db = connect(\"cablefi.db\")\n",
    "c = db.cursor()\n",
    "deets = ['test2']\n",
    "c.execute('''INSERT INTO USERS(Name,email,UserID,Password,Address) VALUES(?,?,?,?,?)''' ,deets)\n",
    "db.commit()\n",
    "db.close()"
   ]
  },
  {
   "cell_type": "markdown",
   "metadata": {},
   "source": [
    "POPULATING CAT TABLE"
   ]
  },
  {
   "cell_type": "code",
   "execution_count": 7,
   "metadata": {},
   "outputs": [],
   "source": [
    "from sqlite3 import *\n",
    "# pricedic = {\"1.5M typec\":11, \"1.0M typec\":9, \"0.5M typec\":7, '0.5M iphone': 7, '1.0M iphone': 9, '1.5M iphone': 11, '0.5M ethernet': 7, '1.0M ethernet': 9, '1.5M ethernet': 11, '0.5M Micro USB': 7, '1.0M Micro USB': 9, '1.5M Micro USB': 11, '0.5M Audio': 7, '1.0M Audio': 9, '1.5M Audio': 11, '1.0M HDMI': 7, '3.0M HDMI': 9, '5.0M HDMI': 11}\n",
    "pricedic = {\"1.5M typec\":11, \"1.0M typec\":9, \"0.5M typec\":7, '0.5M iphone': 7, '1.0M iphone': 9, '1.5M iphone': 11, '1.0M ethernet': 7, '5.0M ethernet': 9, '10.0M ethernet': 11, '0.5M Micro USB': 7, '1.0M Micro USB': 9, '1.5M Micro USB': 11, '0.5M Audio': 7, '1.0M Audio': 9, '1.5M Audio': 11, '0.5M HDMI': 7, '1.0M HDMI': 9, '1.5M HDMI': 11}\n",
    "\n",
    "colour = [\"Black\", \"Blue\", \"Red\"]\n",
    "db = connect(\"cablefi.db\")\n",
    "c = db.cursor()\n",
    "for i in pricedic:\n",
    "    for x in colour:\n",
    "        data = [i, x, 100, pricedic[i]]\n",
    "        c.execute(\"INSERT INTO CAT (Name, Colour, Quantity, Price) VALUES(?,?,?,?)\", data)\n",
    "\n",
    "db.commit()\n",
    "db.close()"
   ]
  },
  {
   "cell_type": "code",
   "execution_count": 8,
   "metadata": {},
   "outputs": [
    {
     "name": "stdout",
     "output_type": "stream",
     "text": [
      "{'1.5M typec': 11, '1.0M typec': 9, '0.5M typec': 7, '0.5M iphone': 7, '1.0M iphone': 9, '1.5M iphone': 11, '1.0M ethernet': 7, '5.0M ethernet': 9, '10.0M ethernet': 11, '0.5M Micro USB': 7, '1.0M Micro USB': 9, '1.5M Micro USB': 11, '0.5M Audio': 7, '1.0M Audio': 9, '1.5M Audio': 11, '0.5M HDMI': 7, '1.0M HDMI': 9, '1.5M HDMI': 11}\n"
     ]
    }
   ],
   "source": [
    "db = connect(\"cablefi.db\")\n",
    "c = db.cursor()\n",
    "c.execute(\"SELECT Name, Price FROM CAT\")\n",
    "data = c.fetchall()\n",
    "db.commit()\n",
    "db.close()\n",
    "pricedic = {}\n",
    "\n",
    "for item in data:\n",
    "    name, price = item[0], item[1]\n",
    "    pricedic[name] = price\n",
    "\n",
    "print(pricedic)"
   ]
  },
  {
   "cell_type": "markdown",
   "metadata": {},
   "source": [
    "POPULATE USERS DB"
   ]
  },
  {
   "cell_type": "code",
   "execution_count": 13,
   "metadata": {},
   "outputs": [],
   "source": [
    "from faker import Faker\n",
    "from sqlite3 import *\n",
    "\n",
    "fake = Faker()\n",
    "\n",
    "for i in range(15):\n",
    "\n",
    "    db = connect(\"cablefi.db\")\n",
    "    c = db.cursor()\n",
    "    name = fake.name()\n",
    "    address = fake.address().split(\"\\n\")\n",
    "    address = address[0] +\" \" + address[1]\n",
    "    email = fake.email()\n",
    "    password = fake.password()\n",
    "    uid = fake.user_name()\n",
    "    deets = [name, email, uid, password, address]\n",
    "    try:\n",
    "        c.execute('''INSERT INTO USERS(Name,email,UserID,Password,Address) VALUES(?,?,?,?,?)''' ,deets)\n",
    "        c.execute('''CREATE TABLE {}(Item TEXT NOT NULL,Colour TEXT NOT NULL, QUANTITY INTEGER NOT NULL, Price NUMERIC NOT NULL)'''.format(uid))\n",
    "        db.commit()\n",
    "        db.close()\n",
    "    \n",
    "    except:\n",
    "        print(\"failed\")\n",
    "        print(deets)\n",
    "\n",
    "\n",
    "# dir(fake)"
   ]
  },
  {
   "cell_type": "markdown",
   "metadata": {},
   "source": [
    "POPULATING CARTS"
   ]
  },
  {
   "cell_type": "code",
   "execution_count": 34,
   "metadata": {},
   "outputs": [
    {
     "name": "stdout",
     "output_type": "stream",
     "text": [
      "['1.5M HDMI', 'Red', 3, 33] name:  ('angela24',)\n",
      "['1.5M Audio', 'Blue', 2, 22] name:  ('bartonmichelle',)\n",
      "['1.5M iphone', 'Black', 5, 55] name:  ('brucestewart',)\n",
      "['0.5M typec', 'Blue', 3, 21] name:  ('eric65',)\n",
      "['0.5M typec', 'Blue', 5, 35] name:  ('ericwiggins',)\n",
      "['1.0M Micro USB', 'Blue', 3, 27] name:  ('greenepatricia',)\n",
      "['0.5M Audio', 'Black', 1, 7] name:  ('hipp',)\n",
      "['1.5M typec', 'Blue', 3, 33] name:  ('johnsonashley',)\n",
      "['1.0M HDMI', 'Blue', 5, 45] name:  ('lbanks',)\n",
      "['5.0M ethernet', 'Blue', 3, 27] name:  ('linda67',)\n",
      "['1.0M Micro USB', 'Black', 1, 9] name:  ('lorimorgan',)\n",
      "['1.0M HDMI', 'Blue', 4, 36] name:  ('maniss',)\n",
      "['1.0M typec', 'Red', 4, 36] name:  ('nathan93',)\n",
      "['0.5M Micro USB', 'Black', 3, 21] name:  ('nelsonjanet',)\n",
      "['1.5M Audio', 'Blue', 4, 44] name:  ('nicolewolf',)\n",
      "['1.0M Micro USB', 'Red', 5, 45] name:  ('stephanieglover',)\n",
      "['0.5M typec', 'Blue', 2, 14] name:  ('ycastillo',)\n"
     ]
    }
   ],
   "source": [
    "from sqlite3 import *\n",
    "from random import *\n",
    "\n",
    "db = connect(\"cablefi.db\")\n",
    "c = db.cursor()\n",
    "\n",
    "c.execute(\"SELECT UserID FROM USERS\")\n",
    "namelst = c.fetchall()\n",
    "c.execute(\"SELECT Name FROM CAT\")\n",
    "temp = c.fetchall()\n",
    "items = []\n",
    "for i in temp:\n",
    "    items.append(i[0])\n",
    "    \n",
    "colours = [\"Black\", \"Blue\", \"Red\"]\n",
    "\n",
    "pricedic = {\"1.5M typec\":11, \"1.0M typec\":9, \"0.5M typec\":7, '0.5M iphone': 7, '1.0M iphone': 9, '1.5M iphone': 11, '1.0M ethernet': 7, '5.0M ethernet': 9, '10.0M ethernet': 11, '0.5M Micro USB': 7, '1.0M Micro USB': 9, '1.5M Micro USB': 11, '0.5M Audio': 7, '1.0M Audio': 9, '1.5M Audio': 11, '0.5M HDMI': 7, '1.0M HDMI': 9, '1.5M HDMI': 11}\n",
    "\n",
    "\n",
    "\n",
    "for i in namelst:\n",
    "    \n",
    "    item = choice(items)\n",
    "    colour = choice(colours)\n",
    "    currentuser = i[0]\n",
    "    quantity = randint(1,5)\n",
    "    data = [item, colour, quantity, quantity*pricedic[item]]\n",
    "    print(data, \"name: \",i)\n",
    "    \n",
    "\n",
    "    \n",
    "    # try: \n",
    "    c.execute(\"UPDATE CAT SET Quantity = Quantity - {0} WHERE Name = '{1}' AND Colour = '{2}'\".format(int(quantity),item, colour ))\n",
    "\n",
    "    c.execute(\"SELECT QUANTITY FROM {0} WHERE Item = '{1}' AND  Colour = '{2}'\".format(currentuser, item, colour) )\n",
    "    existing = c.fetchall()\n",
    "\n",
    "    if existing:\n",
    "        existing = existing[0][0]\n",
    "        quantity += existing\n",
    "\n",
    "        c.execute(\"UPDATE {0} SET QUANTITY = {1}, Price = {2} WHERE Item = '{3}' AND  Colour = '{4}' \".format(currentuser, quantity, quantity*pricedic[item], item, colour))\n",
    "        \n",
    "    else:\n",
    "\n",
    "        c.execute(\"INSERT INTO {}(Item, Colour, QUANTITY, Price) VALUES(?,?,?,?)\".format(currentuser), data)\n",
    "        \n",
    "        \n",
    "db.commit()\n",
    "db.close()"
   ]
  },
  {
   "cell_type": "markdown",
   "metadata": {},
   "source": [
    "Password hash"
   ]
  },
  {
   "cell_type": "code",
   "execution_count": 21,
   "metadata": {},
   "outputs": [
    {
     "name": "stdout",
     "output_type": "stream",
     "text": [
      "b'$2b$12$z9cfI9l9UZlzdWpVIAlsq.'\n",
      "$2b$12$z9cfI9l9UZlzdWpVIAlsq.mvr.yATKhYpyP2tjZnh7oPc7MfHhpNG\n",
      "maniss\n"
     ]
    },
    {
     "ename": "OperationalError",
     "evalue": "near \".\": syntax error",
     "output_type": "error",
     "traceback": [
      "\u001b[1;31m---------------------------------------------------------------------------\u001b[0m",
      "\u001b[1;31mOperationalError\u001b[0m                          Traceback (most recent call last)",
      "\u001b[1;32m<ipython-input-21-1de1ca20758b>\u001b[0m in \u001b[0;36m<module>\u001b[1;34m()\u001b[0m\n\u001b[0;32m     22\u001b[0m     \u001b[0mprint\u001b[0m\u001b[1;33m(\u001b[0m\u001b[0mpwrd\u001b[0m\u001b[1;33m)\u001b[0m\u001b[1;33m\u001b[0m\u001b[0m\n\u001b[0;32m     23\u001b[0m     \u001b[0mprint\u001b[0m\u001b[1;33m(\u001b[0m\u001b[0muid\u001b[0m\u001b[1;33m)\u001b[0m\u001b[1;33m\u001b[0m\u001b[0m\n\u001b[1;32m---> 24\u001b[1;33m     \u001b[0mc\u001b[0m\u001b[1;33m.\u001b[0m\u001b[0mexecute\u001b[0m\u001b[1;33m(\u001b[0m\u001b[1;34m\"UPDATE USERS SET Password = {0} WHERE UserID = '{1}'\"\u001b[0m\u001b[1;33m.\u001b[0m\u001b[0mformat\u001b[0m\u001b[1;33m(\u001b[0m\u001b[0mpwrd\u001b[0m\u001b[1;33m,\u001b[0m \u001b[0muid\u001b[0m\u001b[1;33m)\u001b[0m\u001b[1;33m)\u001b[0m\u001b[1;33m\u001b[0m\u001b[0m\n\u001b[0m\u001b[0;32m     25\u001b[0m \u001b[1;33m\u001b[0m\u001b[0m\n\u001b[0;32m     26\u001b[0m     \u001b[0mdb\u001b[0m\u001b[1;33m.\u001b[0m\u001b[0mcommit\u001b[0m\u001b[1;33m(\u001b[0m\u001b[1;33m)\u001b[0m\u001b[1;33m\u001b[0m\u001b[0m\n",
      "\u001b[1;31mOperationalError\u001b[0m: near \".\": syntax error"
     ]
    }
   ],
   "source": [
    "from sqlite3 import *\n",
    "import bcrypt\n",
    "\n",
    "# Generate salt\n",
    "mySalt = bcrypt.gensalt()\n",
    "print(mySalt)\n",
    "\n",
    "# Hash password\n",
    "# hsh = bcrypt.hashpw(bytePwd, mySalt)\n",
    "\n",
    "db = connect(\"cablefi.db\")\n",
    "c = db.cursor()\n",
    "\n",
    "c.execute(\"SELECT UserID, Password FROM USERS\")\n",
    "data = c.fetchall()\n",
    "for i in data:\n",
    "    uid = i[0]\n",
    "    pwd = i[1]\n",
    "    bytePwd = pwd.encode('utf-8')\n",
    "    hsh = bcrypt.hashpw(bytePwd, mySalt)\n",
    "    pwrd = str(hsh.decode())\n",
    "    print(pwrd)\n",
    "    print(uid)\n",
    "    c.execute(\"UPDATE USERS SET Password = {0} WHERE UserID = '{1}'\".format(pwrd, uid))\n",
    "    \n",
    "    db.commit()\n",
    "db.close()\n",
    "\n",
    "    \n",
    "\n",
    "    "
   ]
  },
  {
   "cell_type": "code",
   "execution_count": 52,
   "metadata": {},
   "outputs": [
    {
     "name": "stdout",
     "output_type": "stream",
     "text": [
      "hallo nfffhi b'hallo nfffhi' hallo nfffhi\n"
     ]
    }
   ],
   "source": [
    "pwd = \"hallo nfffhi\"\n",
    "e = pwd.encode('utf-8')\n",
    "d = e.decode()\n",
    "print(pwd,e,d)"
   ]
  }
 ],
 "metadata": {
  "kernelspec": {
   "display_name": "Python 3.6.4 64-bit",
   "language": "python",
   "name": "python3"
  },
  "language_info": {
   "codemirror_mode": {
    "name": "ipython",
    "version": 3
   },
   "file_extension": ".py",
   "mimetype": "text/x-python",
   "name": "python",
   "nbconvert_exporter": "python",
   "pygments_lexer": "ipython3",
   "version": "3.6.4"
  },
  "vscode": {
   "interpreter": {
    "hash": "d9a1bd4415e8b6653a510abc407bce78facddf69d5249a29519a98deb74eb2c5"
   }
  }
 },
 "nbformat": 4,
 "nbformat_minor": 2
}
